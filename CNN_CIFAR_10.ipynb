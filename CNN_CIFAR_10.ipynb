{
  "nbformat": 4,
  "nbformat_minor": 0,
  "metadata": {
    "colab": {
      "provenance": [],
      "gpuType": "T4"
    },
    "kernelspec": {
      "name": "python3",
      "display_name": "Python 3"
    },
    "language_info": {
      "name": "python"
    },
    "accelerator": "GPU"
  },
  "cells": [
    {
      "cell_type": "markdown",
      "source": [
        "# CPSC-5616EL: Convolutional Neural Networks\n",
        "\n",
        "Here's a simple example of a Convolutional Neural Network (CNN) using PyTorch. In this example, we'll create a CNN for image classification using the [CIFAR-10 dataset](https://www.cs.toronto.edu/~kriz/cifar.html) (Canadian Institute For Advanced Research). The CIFAR-10 dataset consists of 60000 32x32 colour images in 10 classes, with 6000 images per class. There are 50000 training images and 10000 test images."
      ],
      "metadata": {
        "id": "YVgXQ9jbHVnP"
      }
    },
    {
      "cell_type": "code",
      "execution_count": null,
      "metadata": {
        "colab": {
          "base_uri": "https://localhost:8080/"
        },
        "id": "gjrJsBJJGvF5",
        "outputId": "b85de61c-588c-47de-bbb7-9a87cbfc3bff"
      },
      "outputs": [
        {
          "output_type": "stream",
          "name": "stdout",
          "text": [
            "Using device: cuda\n",
            "Downloading https://www.cs.toronto.edu/~kriz/cifar-10-python.tar.gz to ./data/cifar-10-python.tar.gz\n"
          ]
        },
        {
          "output_type": "stream",
          "name": "stderr",
          "text": [
            "100%|██████████| 170498071/170498071 [00:03<00:00, 47913956.85it/s]\n"
          ]
        },
        {
          "output_type": "stream",
          "name": "stdout",
          "text": [
            "Extracting ./data/cifar-10-python.tar.gz to ./data\n",
            "Epoch 1, Loss: 1.5217007295707303\n",
            "Epoch 2, Loss: 1.081028966571364\n",
            "Epoch 3, Loss: 0.8772989102184315\n",
            "Epoch 4, Loss: 0.7504373560171298\n",
            "Epoch 5, Loss: 0.6287228537489996\n",
            "Finished Training\n"
          ]
        }
      ],
      "source": [
        "import torch\n",
        "import torch.nn as nn\n",
        "import torch.optim as optim\n",
        "import torchvision\n",
        "import torchvision.transforms as transforms\n",
        "import numpy as np\n",
        "\n",
        "# Check if a GPU is available\n",
        "device = torch.device(\"cuda\" if torch.cuda.is_available() else \"cpu\")\n",
        "print(f\"Using device: {device}\")\n",
        "\n",
        "# Define a CNN model and move it to the GPU\n",
        "class Net(nn.Module):\n",
        "    def __init__(self):\n",
        "        super(Net, self).__init__()\n",
        "        # Define the architecture of the neural network\n",
        "        # Convolutional Layer 1: Input channels=3 (RGB), Output channels=32, Kernel size=3x3, Padding=1\n",
        "        # The neural network learns these weights through backpropagation during training\n",
        "        self.conv1 = nn.Conv2d(3, 32, 3, padding=1)\n",
        "        # Convolutional Layer 2: Input channels=32, Output channels=64, Kernel size=3x3, Padding=1\n",
        "        self.conv2 = nn.Conv2d(32, 64, 3, padding=1)\n",
        "        # Max Pooling Layer: Kernel size=2x2, Stride=2 (pooling window moves horizontally and vertically after each operation)\n",
        "        self.pool = nn.MaxPool2d(2, 2) # now the image is 8x8\n",
        "        # Fully Connected Layer 1: Input features=64*8*8 (output channels * output image size), Output features=128\n",
        "        self.fc1 = nn.Linear(64 * 8 * 8, 128)\n",
        "        # Fully Connected Layer 2 (Output Layer): Input features=128, Output features=10 (number of classes)\n",
        "        self.fc2 = nn.Linear(128, 10)\n",
        "\n",
        "    def forward(self, x):\n",
        "        # Forward pass through the network\n",
        "        # Convolutional Layer 1 followed by ReLU activation and max pooling\n",
        "        x = self.pool(torch.relu(self.conv1(x)))\n",
        "        # Convolutional Layer 2 followed by ReLU activation and max pooling\n",
        "        x = self.pool(torch.relu(self.conv2(x)))\n",
        "        # Reshape the tensor for the fully connected layers\n",
        "        x = x.view(-1, 64 * 8 * 8)\n",
        "        # Fully Connected Layer 1 followed by ReLU activation\n",
        "        x = torch.relu(self.fc1(x))\n",
        "        # Fully Connected Layer 2 (Output Layer)\n",
        "        x = self.fc2(x)\n",
        "\n",
        "        return x\n",
        "\n",
        "# Create an instance of the CNN model and move it to the GPU\n",
        "net = Net().to(device)\n",
        "\n",
        "# Define the loss function (Cross Entropy Loss for classification problems)\n",
        "criterion = nn.CrossEntropyLoss()\n",
        "# Define the optimizer (Stochastic Gradient Descent with momentum)\n",
        "optimizer = optim.SGD(net.parameters(), lr=0.01, momentum=0.9)\n",
        "\n",
        "# Load and preprocess the CIFAR-10 dataset\n",
        "# a normalized PyTorch tensor that can be passed as input\n",
        "# torchvision.transforms.Normalize(mean, std, inplace=False)\n",
        "# Suppose you have a pixel value of (100, 150, 200) for a particular pixel in an image.\n",
        "# After applying this normalization, the pixel values would be transformed as follows:\n",
        "# Red channel: (100 - 0.5) / 0.5 = 199\n",
        "# Green channel: (150 - 0.5) / 0.5 = 299\n",
        "# Blue channel: (200 - 0.5) / 0.5 = 399\n",
        "transform = transforms.Compose([transforms.ToTensor(), transforms.Normalize((0.5, 0.5, 0.5), (0.5, 0.5, 0.5))])\n",
        "trainset = torchvision.datasets.CIFAR10(root='./data', train=True, download=True, transform=transform)\n",
        "trainloader = torch.utils.data.DataLoader(trainset, batch_size=64, shuffle=True)\n",
        "\n",
        "# Training loop\n",
        "for epoch in range(5):  # Loop over the dataset multiple times\n",
        "    running_loss = 0.0\n",
        "    for i, data in enumerate(trainloader, 0):\n",
        "        inputs, labels = data\n",
        "\n",
        "        # Move data to the GPU\n",
        "        inputs, labels = inputs.to(device), labels.to(device)\n",
        "\n",
        "        optimizer.zero_grad()  # Zero the parameter gradients\n",
        "\n",
        "        outputs = net(inputs)  # Forward pass\n",
        "        loss = criterion(outputs, labels)  # Compute the loss CE\n",
        "        loss.backward()  # Backpropagation\n",
        "        optimizer.step()  # Update the weights\n",
        "\n",
        "        running_loss += loss.item()\n",
        "\n",
        "    print(f\"Epoch {epoch + 1}, Loss: {running_loss / (i + 1)}\")\n",
        "\n",
        "print(\"Finished Training\")\n",
        "\n",
        "# Save the trained model\n",
        "torch.save(net.state_dict(), 'cifar10_model.pth')\n"
      ]
    },
    {
      "cell_type": "code",
      "source": [
        "import torch\n",
        "import torchvision.transforms as transforms\n",
        "\n",
        "# Load the trained model\n",
        "net = Net()\n",
        "net.load_state_dict(torch.load('cifar10_model.pth', map_location=torch.device('cpu')))  # Load the model (CPU)\n",
        "\n",
        "# Set the model to evaluation mode\n",
        "net.eval()\n",
        "\n",
        "# Define the class labels for CIFAR-10\n",
        "class_labels = ['airplane', 'automobile', 'bird', 'cat', 'deer', 'dog', 'frog', 'horse', 'ship', 'truck']\n",
        "\n",
        "# Create a transformation to preprocess test images,\n",
        "# a normalized PyTorch tensor that can be passed as input\n",
        "transform = transforms.Compose([\n",
        "    transforms.ToTensor(),\n",
        "    transforms.Normalize((0.5, 0.5, 0.5), (0.5, 0.5, 0.5))\n",
        "])\n",
        "\n",
        "# Load the test dataset\n",
        "testset = torchvision.datasets.CIFAR10(root='./data', train=False, download=True, transform=transform)\n",
        "\n",
        "# Set batch size and create a data loader for the test dataset\n",
        "batch_size = 64  # You can adjust the batch size as needed\n",
        "testloader = torch.utils.data.DataLoader(testset, batch_size=batch_size, shuffle=False)\n",
        "\n",
        "# Initialize variables to track accuracy for each class\n",
        "class_correct = [0] * 10\n",
        "class_total = [0] * 10\n",
        "\n",
        "# Iterate through the test dataset and calculate accuracy for each class\n",
        "with torch.no_grad():\n",
        "    for data in testloader:\n",
        "        images, labels = data\n",
        "        batch_size = labels.size(0)  # Get the actual batch size for this iteration\n",
        "        outputs = net(images)\n",
        "        _, predicted = torch.max(outputs.data, 1)\n",
        "\n",
        "        # Calculate accuracy for each class\n",
        "        for i in range(batch_size):\n",
        "            label = labels[i]\n",
        "            class_correct[label] += (predicted[i] == label).item()\n",
        "            class_total[label] += 1\n",
        "\n",
        "# Print the accuracy for each class\n",
        "for i in range(10):\n",
        "    accuracy = 100 * class_correct[i] / class_total[i] if class_total[i] > 0 else 0\n",
        "    print(f'Accuracy for class {class_labels[i]}: {accuracy:.2f}%')\n"
      ],
      "metadata": {
        "colab": {
          "base_uri": "https://localhost:8080/"
        },
        "id": "EsFDa1lk4df3",
        "outputId": "b30153e3-b18b-4f36-8575-b9a7c31d87dc"
      },
      "execution_count": null,
      "outputs": [
        {
          "output_type": "stream",
          "name": "stdout",
          "text": [
            "Files already downloaded and verified\n",
            "Accuracy for class airplane: 80.80%\n",
            "Accuracy for class automobile: 89.40%\n",
            "Accuracy for class bird: 62.20%\n",
            "Accuracy for class cat: 48.70%\n",
            "Accuracy for class deer: 59.00%\n",
            "Accuracy for class dog: 66.40%\n",
            "Accuracy for class frog: 76.40%\n",
            "Accuracy for class horse: 82.80%\n",
            "Accuracy for class ship: 82.00%\n",
            "Accuracy for class truck: 69.30%\n"
          ]
        }
      ]
    },
    {
      "cell_type": "markdown",
      "source": [
        "# Webcam\n",
        "Adding your local webcam to the notebook. Just add the code from `Code snippets` that located on the left panel."
      ],
      "metadata": {
        "id": "f-jOl-4bMDan"
      }
    },
    {
      "cell_type": "markdown",
      "source": [
        "# Deploying the Trained Model"
      ],
      "metadata": {
        "id": "_dng96NvMziR"
      }
    },
    {
      "cell_type": "code",
      "source": [
        "from IPython.display import display, Javascript\n",
        "from google.colab.output import eval_js\n",
        "from base64 import b64decode\n",
        "\n",
        "def take_photo(filename='photo.jpg', quality=0.8):\n",
        "  js = Javascript('''\n",
        "    async function takePhoto(quality) {\n",
        "      const div = document.createElement('div');\n",
        "      const capture = document.createElement('button');\n",
        "      capture.textContent = 'Capture';\n",
        "      div.appendChild(capture);\n",
        "\n",
        "      const video = document.createElement('video');\n",
        "      video.style.display = 'block';\n",
        "      const stream = await navigator.mediaDevices.getUserMedia({video: true});\n",
        "\n",
        "      document.body.appendChild(div);\n",
        "      div.appendChild(video);\n",
        "      video.srcObject = stream;\n",
        "      await video.play();\n",
        "\n",
        "      // Resize the output to fit the video element.\n",
        "      google.colab.output.setIframeHeight(document.documentElement.scrollHeight, true);\n",
        "\n",
        "      // Wait for Capture to be clicked.\n",
        "      await new Promise((resolve) => capture.onclick = resolve);\n",
        "\n",
        "      const canvas = document.createElement('canvas');\n",
        "      canvas.width = video.videoWidth;\n",
        "      canvas.height = video.videoHeight;\n",
        "      canvas.getContext('2d').drawImage(video, 0, 0);\n",
        "      stream.getVideoTracks()[0].stop();\n",
        "      div.remove();\n",
        "      return canvas.toDataURL('image/jpeg', quality);\n",
        "    }\n",
        "    ''')\n",
        "  display(js)\n",
        "  data = eval_js('takePhoto({})'.format(quality))\n",
        "  binary = b64decode(data.split(',')[1])\n",
        "  with open(filename, 'wb') as f:\n",
        "    f.write(binary)\n",
        "  return filename"
      ],
      "metadata": {
        "id": "TQmoUOgDA1vJ"
      },
      "execution_count": null,
      "outputs": []
    },
    {
      "cell_type": "code",
      "source": [
        "from IPython.display import Image\n",
        "try:\n",
        "  filename = take_photo()\n",
        "  print('Saved to {}'.format(filename))\n",
        "\n",
        "  # Show the image which was just taken.\n",
        "  display(Image(filename))\n",
        "except Exception as err:\n",
        "  # Errors will be thrown if the user does not have a webcam or if they do not\n",
        "  # grant the page permission to access it.\n",
        "  print(str(err))"
      ],
      "metadata": {
        "colab": {
          "base_uri": "https://localhost:8080/",
          "height": 274
        },
        "id": "Y0ocsZ7iA1vL",
        "outputId": "47de36e6-a88c-4dad-f8f4-72a7feae1929"
      },
      "execution_count": null,
      "outputs": [
        {
          "output_type": "display_data",
          "data": {
            "text/plain": [
              "<IPython.core.display.Javascript object>"
            ],
            "application/javascript": [
              "\n",
              "    async function takePhoto(quality) {\n",
              "      const div = document.createElement('div');\n",
              "      const capture = document.createElement('button');\n",
              "      capture.textContent = 'Capture';\n",
              "      div.appendChild(capture);\n",
              "\n",
              "      const video = document.createElement('video');\n",
              "      video.style.display = 'block';\n",
              "      const stream = await navigator.mediaDevices.getUserMedia({video: true});\n",
              "\n",
              "      document.body.appendChild(div);\n",
              "      div.appendChild(video);\n",
              "      video.srcObject = stream;\n",
              "      await video.play();\n",
              "\n",
              "      // Resize the output to fit the video element.\n",
              "      google.colab.output.setIframeHeight(document.documentElement.scrollHeight, true);\n",
              "\n",
              "      // Wait for Capture to be clicked.\n",
              "      await new Promise((resolve) => capture.onclick = resolve);\n",
              "\n",
              "      const canvas = document.createElement('canvas');\n",
              "      canvas.width = video.videoWidth;\n",
              "      canvas.height = video.videoHeight;\n",
              "      canvas.getContext('2d').drawImage(video, 0, 0);\n",
              "      stream.getVideoTracks()[0].stop();\n",
              "      div.remove();\n",
              "      return canvas.toDataURL('image/jpeg', quality);\n",
              "    }\n",
              "    "
            ]
          },
          "metadata": {}
        },
        {
          "output_type": "stream",
          "name": "stdout",
          "text": [
            "Saved to photo.jpg\n"
          ]
        },
        {
          "output_type": "display_data",
          "data": {
            "image/jpeg": "[encoded data removed]",
            "text/plain": [
              "<IPython.core.display.Image object>"
            ]
          },
          "metadata": {}
        }
      ]
    },
    {
      "cell_type": "code",
      "source": [
        "import torch\n",
        "import torchvision.transforms as transforms\n",
        "import cv2\n",
        "import numpy as np\n",
        "from PIL import Image\n",
        "\n",
        "# Load the trained model\n",
        "net = Net()\n",
        "net.load_state_dict(torch.load('cifar10_model.pth', map_location=torch.device('cpu')))  # Load the model (CPU)\n",
        "\n",
        "# Set the model to evaluation mode\n",
        "net.eval()\n",
        "\n",
        "# Define the class labels for CIFAR-10\n",
        "class_labels = ['airplane', 'automobile', 'bird', 'cat', 'deer', 'dog', 'frog', 'horse', 'ship', 'truck']\n",
        "\n",
        "# Create a transformation to preprocess input images,\n",
        "# a normalized PyTorch tensor that can be passed as input\n",
        "transform = transforms.Compose([\n",
        "    transforms.Resize((32, 32)),\n",
        "    transforms.ToTensor(),  # Convert to a PyTorch tensor\n",
        "    transforms.Normalize((0.5, 0.5, 0.5), (0.5, 0.5, 0.5))\n",
        "])\n",
        "\n",
        "# Load and preprocess the input image \"photo.jpg\"\n",
        "image = Image.open('photo.jpg')\n",
        "image = transform(image).unsqueeze(0)  # Add a batch dimension\n",
        "\n",
        "# Perform inference\n",
        "with torch.no_grad():\n",
        "    outputs = net(image)\n",
        "    probabilities = torch.softmax(outputs, dim=1)\n",
        "\n",
        "# Print the normalized classification results for all classes\n",
        "for i in range(len(class_labels)):\n",
        "    print(f\"Probability for class '{class_labels[i]}': {probabilities[0][i].item():.4f}\")\n",
        "\n",
        "# Get the predicted class index\n",
        "_, predicted = torch.max(outputs, 1)\n",
        "predicted_class = predicted.item()\n",
        "\n",
        "# Print the predicted class label\n",
        "predicted_label = class_labels[predicted_class]\n",
        "print(f\"Predicted class: {predicted_label}\")\n",
        "\n",
        "# Calculate the accuracy for each class\n",
        "correct = (predicted == torch.tensor([predicted_class])).item()\n",
        "accuracy = 100.0 if correct else 0.0  # Either 100% if correct or 0% if incorrect\n",
        "\n",
        "# Print the accuracy for each class\n",
        "print(f\"Accuracy for class '{predicted_label}': {accuracy:.2f}%\")\n"
      ],
      "metadata": {
        "colab": {
          "base_uri": "https://localhost:8080/"
        },
        "id": "iBqWbAKUwvXZ",
        "outputId": "34c31189-bb3d-4b4a-811c-75da5933887f"
      },
      "execution_count": null,
      "outputs": [
        {
          "output_type": "stream",
          "name": "stdout",
          "text": [
            "Probability for class 'airplane': 0.0002\n",
            "Probability for class 'automobile': 0.9764\n",
            "Probability for class 'bird': 0.0000\n",
            "Probability for class 'cat': 0.0001\n",
            "Probability for class 'deer': 0.0000\n",
            "Probability for class 'dog': 0.0001\n",
            "Probability for class 'frog': 0.0000\n",
            "Probability for class 'horse': 0.0005\n",
            "Probability for class 'ship': 0.0224\n",
            "Probability for class 'truck': 0.0003\n",
            "Predicted class: automobile\n",
            "Accuracy for class 'automobile': 100.00%\n"
          ]
        }
      ]
    }
  ]
}