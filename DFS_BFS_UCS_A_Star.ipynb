{
  "nbformat": 4,
  "nbformat_minor": 0,
  "metadata": {
    "colab": {
      "provenance": []
    },
    "kernelspec": {
      "name": "python3",
      "display_name": "Python 3"
    },
    "language_info": {
      "name": "python"
    }
  },
  "cells": [
    {
      "cell_type": "markdown",
      "source": [
        "**COSC-4117EL Fall 2023**\n",
        "\n",
        "This is the implementation of three search algorithms: Depth First Search (DFS), Breadth First Search (BFS), and Uniform Cost Search (UCS) on a directed graph.\n",
        "\n",
        "Update: A* Search is added."
      ],
      "metadata": {
        "id": "7fOxd_ja9-hT"
      }
    },
    {
      "cell_type": "markdown",
      "source": [],
      "metadata": {
        "id": "JlzZMsFyFLK0"
      }
    },
    {
      "cell_type": "markdown",
      "source": [
        "Import libraries\n",
        "\n",
        "matplotlib: https://matplotlib.org/\n",
        "\n",
        "networkx: https://networkx.org/documentation/stable/tutorial.html\n",
        "\n",
        "queue: https://docs.python.org/3.10/library/queue.html\n"
      ],
      "metadata": {
        "id": "7R99kY20AxiM"
      }
    },
    {
      "cell_type": "code",
      "source": [
        "import matplotlib.pyplot as plt\n",
        "import networkx as nx\n",
        "import queue"
      ],
      "metadata": {
        "id": "n9GvxzUFBSmL"
      },
      "execution_count": null,
      "outputs": []
    },
    {
      "cell_type": "markdown",
      "source": [
        "Define the directed graph:\n",
        "Graph class is implemented with the ability to add edges with associated costs.\n",
        "\n",
        "add_edge: Adds an edge to the graph with an associated cost. If the start node does not exist in the graph, it initializes it.\n",
        "\n",
        "get_neighbors: Returns neighbors (and associated costs) of a given node."
      ],
      "metadata": {
        "id": "3iIdkgZfBVq8"
      }
    },
    {
      "cell_type": "code",
      "source": [
        "class Graph:\n",
        "    def __init__(self):\n",
        "        # Dictionary to store nodes and their neighbors\n",
        "        self.nodes = {}\n",
        "\n",
        "    def add_edge(self, start, end, cost=1):\n",
        "        \"\"\"Add an edge to the graph from 'start' to 'end' with a given 'cost'.\"\"\"\n",
        "\n",
        "        # If the starting node is not already in the graph, add it\n",
        "        if start not in self.nodes:\n",
        "            self.nodes[start] = {}\n",
        "\n",
        "        # Add the ending node as a neighbor to the starting node with the given cost\n",
        "        self.nodes[start][end] = cost\n",
        "\n",
        "    def get_neighbors(self, node):\n",
        "        \"\"\"Return the neighbors of the given 'node'.\"\"\"\n",
        "        return self.nodes.get(node, {})"
      ],
      "metadata": {
        "id": "VJRazaUlBjLI"
      },
      "execution_count": null,
      "outputs": []
    },
    {
      "cell_type": "markdown",
      "source": [
        "Implement the search algorithms\n",
        "\n",
        "dfs: Depth First Search is implemented using a stack. It searches deeper into the graph before backtracking.\n",
        "\n",
        "bfs: Breadth First Search is implemented using a queue. It searches all neighbors at the present depth before moving on to nodes at the next depth level.\n",
        "\n",
        "ucs: Uniform Cost Search is implemented using a priority queue. It always selects the node with the lowest cost to expand next."
      ],
      "metadata": {
        "id": "sDON3zceB21o"
      }
    },
    {
      "cell_type": "code",
      "source": [
        "def dfs(graph, start, goal):\n",
        "    \"\"\"Depth First Search implementation.\"\"\"\n",
        "    # Initialize the stack with the starting node, path and cost\n",
        "    stack = queue.LifoQueue()\n",
        "    stack.put((start, [start], 0))\n",
        "    visited = set()\n",
        "    while not stack.empty():\n",
        "        vertex, path, cost = stack.get()\n",
        "        visited.add(vertex)\n",
        "        # Sort neighbors in descending order for LIFO processing\n",
        "        sorted_neighbors = sorted(graph.get_neighbors(vertex).items(), key=lambda x: x[0], reverse=True)\n",
        "\n",
        "        for next_node, next_cost in sorted_neighbors:\n",
        "            if next_node in path:\n",
        "                continue\n",
        "            elif next_node == goal:\n",
        "                # If the goal node is found, return the path and cost\n",
        "                return path + [next_node], cost + next_cost, len(visited)\n",
        "            else:\n",
        "                stack.put((next_node, path + [next_node], cost + next_cost))\n",
        "    # If no path is found, return None for both path and cost\n",
        "    return None, None\n",
        "\n",
        "def bfs(graph, start, goal):\n",
        "    \"\"\"Breadth First Search implementation.\"\"\"\n",
        "    # Initialize the queue with the starting node, path and cost\n",
        "    q = queue.Queue()\n",
        "    q.put((start, [start], 0))\n",
        "    visited = set()\n",
        "\n",
        "    while not q.empty():\n",
        "        vertex, path, cost = q.get()\n",
        "        # Sort neighbors in ascending order for FIFO processing\n",
        "        sorted_neighbors = sorted(graph.get_neighbors(vertex).items(), key=lambda x: x[0])\n",
        "        visited.add(vertex)\n",
        "        for next_node, next_cost in sorted_neighbors:\n",
        "            if next_node in path:\n",
        "                continue\n",
        "            elif next_node == goal:\n",
        "                # If the goal node is found, return the path and cost\n",
        "                return path + [next_node], cost + next_cost, len(visited)\n",
        "            else:\n",
        "                q.put((next_node, path + [next_node], cost + next_cost))\n",
        "    # If no path is found, return None for both path and cost\n",
        "    return None, None\n",
        "\n",
        "def ucs(graph, start, goal):\n",
        "    \"\"\"Uniform Cost Search implementation.\"\"\"\n",
        "    # Initialize the priority queue with the starting node and cost\n",
        "    pq = queue.PriorityQueue()\n",
        "    pq.put((0, start, [start]))\n",
        "\n",
        "    # Set to keep track of visited nodes\n",
        "    visited = set()\n",
        "\n",
        "    while not pq.empty():\n",
        "        cost, vertex, path = pq.get()\n",
        "\n",
        "        # If the node has been visited before, skip processing\n",
        "        if vertex in visited:\n",
        "            continue\n",
        "        if vertex == goal:\n",
        "            # If the goal node is found, return the path and cost\n",
        "            return path, cost, len(visited)\n",
        "\n",
        "        visited.add(vertex)\n",
        "\n",
        "        # For each neighbor of the current node, calculate total cost and add to the queue\n",
        "        for next_node, next_cost in graph.get_neighbors(vertex).items():\n",
        "            if next_node not in visited:\n",
        "                pq.put((cost + next_cost, next_node, path + [next_node]))\n",
        "\n",
        "    # If no path is found, return None\n",
        "    return None"
      ],
      "metadata": {
        "id": "Ya9ba5PvCDPh"
      },
      "execution_count": null,
      "outputs": []
    },
    {
      "cell_type": "code",
      "source": [
        "def heuristic(node, goal):\n",
        "    \"\"\"\n",
        "    Simple heuristic based on node names.\n",
        "    Computes the absolute difference between the ASCII values of the node and goal characters.\n",
        "    This heuristic assumes that the node and goal are single characters.\n",
        "    Example: |S-G| = 12, |A-G| = 6, |C-G| = 4\n",
        "    \"\"\"\n",
        "    return abs(ord(node) - ord(goal))\n",
        "\n",
        "def a_star_search(graph, start, goal):\n",
        "    \"\"\"\n",
        "    A* search algorithm for finding the shortest path in a graph.\n",
        "    \"\"\"\n",
        "\n",
        "    # Initialize the priority queue (estimated cost, actual path cost so far, current node, path from start to current node).\n",
        "    pq = queue.PriorityQueue()\n",
        "    pq.put((0 + heuristic(start, goal), 0, start, [start]))  # start node with its estimated cost based on heuristic\n",
        "    # See the queue structure\n",
        "    print(list(pq.queue))\n",
        "    # Set to keep track of visited nodes to prevent revisiting them.\n",
        "    visited = set()\n",
        "\n",
        "    while not pq.empty():\n",
        "        # Get the node with the smallest estimated cost from the priority queue.\n",
        "        estimated_cost, path_cost, vertex, path = pq.get()\n",
        "        # Just to observe the added node\n",
        "        print(estimated_cost, path_cost, vertex, path)\n",
        "        # If the current node has been visited before, skip it.\n",
        "        if vertex in visited:\n",
        "            continue\n",
        "\n",
        "        # If the current node is the goal, return the path, the actual path cost and the number of nodes visited.\n",
        "        if vertex == goal:\n",
        "            return path, path_cost, len(visited)\n",
        "\n",
        "        # Mark the current node as visited.\n",
        "        visited.add(vertex)\n",
        "\n",
        "        # Explore neighboring nodes.\n",
        "        for next_node, edge_cost in graph.get_neighbors(vertex).items():\n",
        "            if next_node not in visited:\n",
        "                # Calculate the new actual path cost from start to the neighboring node.\n",
        "                new_path_cost = path_cost + edge_cost # g(n)\n",
        "                # f(n) Calculate the estimated cost for the neighboring node using the heuristic.\n",
        "                estimated_cost = new_path_cost + heuristic(next_node, goal) # h(n)\n",
        "                # Add the neighboring node to the priority queue.\n",
        "                pq.put((estimated_cost, new_path_cost, next_node, path + [next_node]))\n",
        "\n",
        "    # If no path is found, return None\n",
        "    return None"
      ],
      "metadata": {
        "id": "p-DZC8erfihD"
      },
      "execution_count": null,
      "outputs": []
    },
    {
      "cell_type": "markdown",
      "source": [
        "\n",
        "Visualize the graph\n",
        "\n",
        "visualize_graph: Uses NetworkX and Matplotlib to visualize the given graph. Nodes are represented as circles labeled with their names, and edges show the associated costs.\n",
        "Test and display results:"
      ],
      "metadata": {
        "id": "_3p1FM_LCMX9"
      }
    },
    {
      "cell_type": "code",
      "source": [
        "def visualize_graph(graph):\n",
        "    \"\"\"Visualizes the graph using networkx and matplotlib.\"\"\"\n",
        "\n",
        "    G = nx.DiGraph() # Create a directed graph\n",
        "\n",
        "    # Add edges and their weights to the networkx graph\n",
        "    for node, neighbors in graph.nodes.items():\n",
        "        for neighbor, cost in neighbors.items():\n",
        "            G.add_edge(node, neighbor, weight=cost)\n",
        "\n",
        "    # Plot settings\n",
        "    plt.figure(figsize=(3, 3))\n",
        "    pos = nx.spring_layout(G)\n",
        "    nx.draw(G, pos, with_labels=True, node_size=500, node_color=\"skyblue\", node_shape=\"o\", alpha=0.6, linewidths=4)\n",
        "\n",
        "    # Display edge weights\n",
        "    labels = nx.get_edge_attributes(G, 'weight')\n",
        "    nx.draw_networkx_edge_labels(G, pos, edge_labels=labels)\n",
        "    plt.show()"
      ],
      "metadata": {
        "id": "nn0-ha4BCdju"
      },
      "execution_count": null,
      "outputs": []
    },
    {
      "cell_type": "markdown",
      "source": [
        "\n",
        "A graph is created and edges are added.\n",
        "The graph is visualized.\n",
        "All three search algorithms are run on the graph to find a path from node 'S' to node 'G' and the results are printed.\n",
        "When you run the code, it should display a visual representation of the graph and the paths (and costs) found by each of the search algorithms.\n"
      ],
      "metadata": {
        "id": "AxTFjLEHCe1r"
      }
    },
    {
      "cell_type": "code",
      "execution_count": null,
      "metadata": {
        "colab": {
          "base_uri": "https://localhost:8080/",
          "height": 493
        },
        "id": "Y2VyLivq4ZOf",
        "outputId": "2b41fb5f-8d11-4b66-d9a8-c410ba6671ca"
      },
      "outputs": [
        {
          "output_type": "display_data",
          "data": {
            "text/plain": [
              "<Figure size 300x300 with 1 Axes>"
            ],
            "image/png": "[encoded data removed]"
          },
          "metadata": {}
        },
        {
          "output_type": "stream",
          "name": "stdout",
          "text": [
            "DFS path: ['S', 'A', 'C', 'G'], cost: 7, visited nodes: 3\n",
            "BFS path: ['S', 'B', 'G'], cost: 8, visited nodes: 3\n",
            "UCS path: ['S', 'A', 'D', 'G'], cost: 4, visited nodes: 5\n",
            "[(12, 0, 'S', ['S'])]\n",
            "12 0 S ['S']\n",
            "7 1 A ['S', 'A']\n",
            "5 2 D ['S', 'A', 'D']\n",
            "4 4 G ['S', 'A', 'D', 'G']\n",
            "A* search path: ['S', 'A', 'D', 'G'], cost: 4, visited nodes: 3\n"
          ]
        }
      ],
      "source": [
        "graph = Graph()\n",
        "# Add the edges from left to right\n",
        "graph.add_edge('S', 'A', 1)\n",
        "graph.add_edge('S', 'B', 3)\n",
        "graph.add_edge('A', 'C', 1)\n",
        "graph.add_edge('A', 'D', 1)\n",
        "graph.add_edge('C', 'G', 5)\n",
        "graph.add_edge('D', 'G', 2)\n",
        "graph.add_edge('B', 'D', 2)\n",
        "graph.add_edge('B', 'G', 5)\n",
        "\n",
        "# Visualize the graph\n",
        "visualize_graph(graph)\n",
        "\n",
        "# Test DFS and print result\n",
        "path, cost, visited_nodes = dfs(graph, 'S', 'G')\n",
        "print(f\"DFS path: {path}, cost: {cost}, visited nodes: {visited_nodes}\")\n",
        "# Test BFS and print result\n",
        "path, cost, visited_nodes = bfs(graph, 'S', 'G')\n",
        "print(f\"BFS path: {path}, cost: {cost}, visited nodes: {visited_nodes}\")\n",
        "# Test UCS and print result\n",
        "path, cost, visited_nodes = ucs(graph, 'S', 'G')\n",
        "print(f\"UCS path: {path}, cost: {cost}, visited nodes: {visited_nodes}\")\n",
        "# Test A* and print result\n",
        "path, cost, visited_nodes = a_star_search(graph, 'S', 'G')\n",
        "print(f\"A* search path: {path}, cost: {cost}, visited nodes: {visited_nodes}\")"
      ]
    }
  ]
}