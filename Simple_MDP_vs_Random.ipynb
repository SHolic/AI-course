{
  "nbformat": 4,
  "nbformat_minor": 0,
  "metadata": {
    "colab": {
      "provenance": []
    },
    "kernelspec": {
      "name": "python3",
      "display_name": "Python 3"
    },
    "language_info": {
      "name": "python"
    }
  },
  "cells": [
    {
      "cell_type": "markdown",
      "source": [
        "## COSC-4117EL: Simple offline MDP vs random probabilities\n",
        "\n",
        "\n",
        "The Markov Decision Process (MDP) for the slot machine is based on the following details:\n",
        "\n",
        "**States:**\n",
        "\n",
        "S = {Win, Lose}\n",
        "Transitions:\n",
        "\n",
        "**Actions:**\n",
        "From Win:\n",
        "With probability 0.75, receive reward of \\$2 and stay in Win.\n",
        "With probability 0.25, receive reward of \\$0 and transition to Lose.\n",
        "From Lose:\n",
        "With probability 0.25, receive reward of \\$0 and stay in Lose.\n",
        "With probability 0.75, receive reward of \\$2 and transition to Win."
      ],
      "metadata": {
        "id": "w62vrCt9Dr-c"
      }
    },
    {
      "cell_type": "code",
      "execution_count": null,
      "metadata": {
        "id": "sS3Eewj5Demc",
        "outputId": "6dac79d5-9b73-4557-a3a0-b26371ae2e0a",
        "colab": {
          "base_uri": "https://localhost:8080/"
        }
      },
      "outputs": [
        {
          "output_type": "stream",
          "name": "stdout",
          "text": [
            "Randomly generated win probability: 0.41\n",
            "Randomly generated lose probability: 0.59\n",
            "Total winnings after 1000 tries: $1514\n",
            "Total winnings after 1000 tries with random probabilities: $772\n"
          ]
        }
      ],
      "source": [
        "import random\n",
        "\n",
        "# Define the states\n",
        "states = [\"Win\", \"Lose\"]\n",
        "\n",
        "# Simulation\n",
        "def slot_machine_simulation(num_trials=1000):\n",
        "    current_state = \"Win\"  # Starting state\n",
        "    total_reward = 0       # Accumulate the rewards\n",
        "\n",
        "    for _ in range(num_trials):\n",
        "        if current_state == \"Win\":\n",
        "            if random.uniform(0, 1) <= 0.75:\n",
        "                total_reward += 2\n",
        "            else:\n",
        "                current_state = \"Lose\"\n",
        "        else:\n",
        "            if random.uniform(0, 1) <= 0.25:\n",
        "                pass\n",
        "            else:\n",
        "                total_reward += 2\n",
        "                current_state = \"Win\"\n",
        "\n",
        "    return total_reward\n",
        "\n",
        "# Simulation with random winning and losing probabilities\n",
        "def random_probability_simulation(num_trials=1000):\n",
        "    current_state = \"Win\"  # Starting state\n",
        "    total_reward = 0       # Accumulate the rewards\n",
        "\n",
        "    # Generate random winning probability\n",
        "    win_prob = random.uniform(0, 1)\n",
        "    lose_prob = 1 - win_prob\n",
        "\n",
        "    print(f\"Randomly generated win probability: {win_prob:.2f}\")\n",
        "    print(f\"Randomly generated lose probability: {lose_prob:.2f}\")\n",
        "\n",
        "    for _ in range(num_trials):\n",
        "        if current_state == \"Win\":\n",
        "            if random.uniform(0, 1) <= win_prob:\n",
        "                total_reward += 2\n",
        "            else:\n",
        "                current_state = \"Lose\"\n",
        "        else:\n",
        "            if random.uniform(0, 1) <= lose_prob:\n",
        "                pass\n",
        "            else:\n",
        "                total_reward += 2\n",
        "                current_state = \"Win\"\n",
        "\n",
        "    return total_reward\n",
        "\n",
        "# Simulate the MDP for 1000 times\n",
        "total_winning1 = slot_machine_simulation()\n",
        "total_winning2 = random_probability_simulation()\n",
        "print(f\"Total winnings after 1000 tries: ${total_winning1}\")\n",
        "print(f\"Total winnings after 1000 tries with random probabilities: ${total_winning2}\")\n"
      ]
    }
  ]
}